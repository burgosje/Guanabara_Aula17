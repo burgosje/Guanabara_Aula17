{
  "nbformat": 4,
  "nbformat_minor": 0,
  "metadata": {
    "colab": {
      "provenance": [],
      "authorship_tag": "ABX9TyMeJM7fstrzJ1jy5xezDeLK",
      "include_colab_link": true
    },
    "kernelspec": {
      "name": "python3",
      "display_name": "Python 3"
    },
    "language_info": {
      "name": "python"
    }
  },
  "cells": [
    {
      "cell_type": "markdown",
      "metadata": {
        "id": "view-in-github",
        "colab_type": "text"
      },
      "source": [
        "<a href=\"https://colab.research.google.com/github/burgosje/Guanabara_Aula17/blob/main/Guanabara17.ipynb\" target=\"_parent\"><img src=\"https://colab.research.google.com/assets/colab-badge.svg\" alt=\"Open In Colab\"/></a>"
      ]
    },
    {
      "cell_type": "markdown",
      "source": [
        "Aula 17 Curso em Vídeo Guanabara"
      ],
      "metadata": {
        "id": "wY0TGqg3srtJ"
      }
    },
    {
      "cell_type": "markdown",
      "source": [
        "Variáveis compostas (listas)"
      ],
      "metadata": {
        "id": "a11NPqJtVe0X"
      }
    },
    {
      "cell_type": "code",
      "source": [
        "num = (2, 5, 9 , 1)\n",
        "# num[2] = 3\n",
        "print(num)"
      ],
      "metadata": {
        "id": "RpySVQ3-eWDA"
      },
      "execution_count": null,
      "outputs": []
    },
    {
      "cell_type": "code",
      "source": [
        "num = [2, 5, 9, 1]\n",
        "num[2] = 3\n",
        "num.append(7)\n",
        "num.sort(reverse=True)\n",
        "num.insert(2, 2)\n",
        "num.pop()\n",
        "num.pop(2)\n",
        "if 4 in num:\n",
        "  num.remove(4)\n",
        "else:\n",
        "  print(\"Não achei o número 4\")\n",
        "if 5 in num:\n",
        "  num.remove(5)\n",
        "print(num)\n",
        "print(f\"Essa lista tem {len(num)} elementos\")"
      ],
      "metadata": {
        "colab": {
          "base_uri": "https://localhost:8080/"
        },
        "id": "PLjVXBF1eoRB",
        "outputId": "aa7c9507-f9bc-44ed-cbdd-1d8e2feb24d8"
      },
      "execution_count": null,
      "outputs": [
        {
          "output_type": "stream",
          "name": "stdout",
          "text": [
            "Não achei o número 4\n",
            "[7, 3, 2]\n",
            "Essa lista tem 3 elementos\n"
          ]
        }
      ]
    },
    {
      "cell_type": "code",
      "source": [
        "valores = []\n",
        "valores.append(5)\n",
        "valores.append(9)\n",
        "valores.append(4)\n",
        "\n",
        "for c, v in enumerate(valores):\n",
        "  print(f\"Na posição {c} encontrei o valor {v}\")\n",
        "print(\"Fim\")"
      ],
      "metadata": {
        "colab": {
          "base_uri": "https://localhost:8080/"
        },
        "id": "w4dJIyR9f7_L",
        "outputId": "b9e60aa8-380b-4b8e-84b6-0e4b8c0a4595"
      },
      "execution_count": null,
      "outputs": [
        {
          "output_type": "stream",
          "name": "stdout",
          "text": [
            "Na posição 0 encontrei o valor 5\n",
            "Na posição 1 encontrei o valor 9\n",
            "Na posição 2 encontrei o valor 4\n",
            "Fim\n"
          ]
        }
      ]
    },
    {
      "cell_type": "code",
      "source": [
        "valores = list()\n",
        "for cont in range(0, 5):\n",
        "  valores.append(int(input(\"Digite um valor: \")))\n",
        "\n",
        "for c, v in enumerate(valores):\n",
        "  print(f\"Na posição {c} encontrei o valor {v}\")\n",
        "print(\"Fim\")"
      ],
      "metadata": {
        "colab": {
          "base_uri": "https://localhost:8080/"
        },
        "id": "NlSztcPhgwdl",
        "outputId": "37750269-d2f7-439d-dc84-6e30ec2ce693"
      },
      "execution_count": null,
      "outputs": [
        {
          "output_type": "stream",
          "name": "stdout",
          "text": [
            "Digite um valor: 5\n",
            "Digite um valor: 4\n",
            "Digite um valor: 3\n",
            "Digite um valor: 2\n",
            "Digite um valor: 1\n",
            "Na posição 0 encontrei o valor 5\n",
            "Na posição 1 encontrei o valor 4\n",
            "Na posição 2 encontrei o valor 3\n",
            "Na posição 3 encontrei o valor 2\n",
            "Na posição 4 encontrei o valor 1\n",
            "Fim\n"
          ]
        }
      ]
    },
    {
      "cell_type": "markdown",
      "source": [
        "Ligação entre listas"
      ],
      "metadata": {
        "id": "G7jPXxxHhzKw"
      }
    },
    {
      "cell_type": "code",
      "source": [
        "a = [2, 3, 4, 7]\n",
        "b = a\n",
        "b[2] = 8\n",
        "\n",
        "print(f\"Lista A: {a}\")\n",
        "print(f\"Lista B: {b}\")"
      ],
      "metadata": {
        "colab": {
          "base_uri": "https://localhost:8080/"
        },
        "id": "-md_BtN0haYx",
        "outputId": "89370818-cb5a-4fc7-f1e2-bf83810f1f09"
      },
      "execution_count": null,
      "outputs": [
        {
          "output_type": "stream",
          "name": "stdout",
          "text": [
            "Lista A: [2, 3, 8, 7]\n",
            "Lista B: [2, 3, 8, 7]\n"
          ]
        }
      ]
    },
    {
      "cell_type": "markdown",
      "source": [
        "Cópia entre listas"
      ],
      "metadata": {
        "id": "WHVHHYimh3vI"
      }
    },
    {
      "cell_type": "code",
      "source": [
        "a = [2, 3, 4, 7]\n",
        "b = a[:]\n",
        "b[2] = 8\n",
        "\n",
        "print(f\"Lista A: {a}\")\n",
        "print(f\"Lista B: {b}\")"
      ],
      "metadata": {
        "colab": {
          "base_uri": "https://localhost:8080/"
        },
        "id": "68k5Igngh6VH",
        "outputId": "593b38ee-d556-462c-de73-71a4efde8e9a"
      },
      "execution_count": null,
      "outputs": [
        {
          "output_type": "stream",
          "name": "stdout",
          "text": [
            "Lista A: [2, 3, 4, 7]\n",
            "Lista B: [2, 3, 8, 7]\n"
          ]
        }
      ]
    },
    {
      "cell_type": "markdown",
      "source": [
        "78) Faça um programa que leia 5 valores numéricos e guarde-os em uma lista. No final, mostre qual foi o maior e o menor valor digitado e as suas respectivas posições na lista"
      ],
      "metadata": {
        "id": "mVTpRgh5iXFC"
      }
    },
    {
      "cell_type": "code",
      "source": [
        "listanum = []\n",
        "mai = 0\n",
        "men = 0\n",
        "\n",
        "for c in range (0, 5):\n",
        "  listanum.append(int(input(f\"Digite um valor para posição {c}: \")))\n",
        "  if c == 0:\n",
        "    maior = men = listanum[c]\n",
        "  else:\n",
        "    if listanum[c] > mai:\n",
        "      mai = listanum[c]\n",
        "    if listanum[c] < men:\n",
        "      men = listanum[c]\n",
        "\n",
        "print(f\"Você digitou os valores {listanum}\")\n",
        "print(f\"O maior valor digitado foi {mai}\")\n",
        "print(f\"O menor valor digitado foi {men}\")\n"
      ],
      "metadata": {
        "colab": {
          "base_uri": "https://localhost:8080/"
        },
        "id": "t3Mv3s4XiWwC",
        "outputId": "7824be21-4103-4673-8398-2c351856b6a8"
      },
      "execution_count": null,
      "outputs": [
        {
          "output_type": "stream",
          "name": "stdout",
          "text": [
            "Digite um valor para posição 0: 1\n",
            "Digite um valor para posição 1: 2\n",
            "Digite um valor para posição 2: 3\n",
            "Digite um valor para posição 3: 4\n",
            "Digite um valor para posição 4: 5\n",
            "Você digitou os valores [1, 2, 3, 4, 5]\n",
            "O maior valor digitado foi 5\n",
            "O menor valor digitado foi 1\n"
          ]
        }
      ]
    },
    {
      "cell_type": "markdown",
      "source": [
        "79) Crie um programa onde o usuário possa digitar vários valores númericos e cadastre-os em uma lista. Caso o número já exista lá dentro, ele não sera adicionado. No final, serão exibidos todos os valores únicos digitados, em ordem crescente"
      ],
      "metadata": {
        "id": "Ct2a4vX4mIbZ"
      }
    },
    {
      "cell_type": "code",
      "source": [
        "numeros = list()\n",
        "\n",
        "while True:\n",
        "  n = int(input(\"Digite um valor: \"))\n",
        "  if n not in numeros:\n",
        "    numeros.append(n)\n",
        "    print(\"Valor adicionado com sucesso\")\n",
        "  else:\n",
        "    print(\"Valor duplicado. Não é possível adicionar\")\n",
        "  r = input(\"Quer continuar [S/N] \")\n",
        "  if r in \"Nn\":\n",
        "    break\n",
        "\n",
        "numeros.sort()\n",
        "print(f\"Você digitou os valores {numeros}\")"
      ],
      "metadata": {
        "colab": {
          "base_uri": "https://localhost:8080/"
        },
        "id": "CG-g3JJKmILY",
        "outputId": "73966f5b-59b1-4ad4-bd18-932a26c2b121"
      },
      "execution_count": null,
      "outputs": [
        {
          "output_type": "stream",
          "name": "stdout",
          "text": [
            "Digite um valor: 8\n",
            "Valor adicionado com sucesso\n",
            "Quer continuar [S/N] S\n",
            "Digite um valor: 1\n",
            "Valor adicionado com sucesso\n",
            "Quer continuar [S/N] S\n",
            "Digite um valor: 21\n",
            "Valor adicionado com sucesso\n",
            "Quer continuar [S/N] N\n",
            "Você digitou os valores [1, 8, 21]\n"
          ]
        }
      ]
    },
    {
      "cell_type": "markdown",
      "source": [
        "80) Crie um programa onde o usuário possa digitar cinco valores numéricos e cadastre-os em uma lista, já na posição correta de inserção (sem usar o sort()). No final, mostre a lista ordenada na tela."
      ],
      "metadata": {
        "id": "GCjgBXOZoey0"
      }
    },
    {
      "cell_type": "code",
      "source": [
        "lista = []\n",
        "\n",
        "for c in range(0, 5):\n",
        "  n = int(input(\"Digite um valor: \"))\n",
        "  if c == 0 or n > lista[-1]:\n",
        "    lista.append(n)\n",
        "  else:\n",
        "    pos = 0\n",
        "    while pos < len(lista):\n",
        "      if n <= lista [pos]:\n",
        "        lista.insert(pos, n)\n",
        "        break\n",
        "      pos += 1\n",
        "\n",
        "print(f\"Os valores digitados em ordem foram: {lista}\")"
      ],
      "metadata": {
        "colab": {
          "base_uri": "https://localhost:8080/"
        },
        "id": "tSEKwYIzoyUg",
        "outputId": "dd9210d4-615e-44a7-8831-6df9d2ba292d"
      },
      "execution_count": null,
      "outputs": [
        {
          "output_type": "stream",
          "name": "stdout",
          "text": [
            "Digite um valor: 6\n",
            "Digite um valor: 3\n",
            "Digite um valor: 8\n",
            "Digite um valor: 4\n",
            "Digite um valor: 1\n",
            "Os valores digitados em ordem foram: [1, 3, 4, 6, 8]\n"
          ]
        }
      ]
    },
    {
      "cell_type": "markdown",
      "source": [
        "81) Crie um programa que vai ler vários números e colocar em uma lista. Depois disso, mostre:\n",
        "1.   Quantos números foram digitados\n",
        "2.   A lista de valores ordenada de forma decrescente\n",
        "3. Se o valor 5 foi digitado e está ou não na lista\n",
        "\n",
        "\n",
        "\n"
      ],
      "metadata": {
        "id": "eY5oLhwMqwYN"
      }
    },
    {
      "cell_type": "code",
      "source": [
        "valores = []\n",
        "\n",
        "while True:\n",
        "    valores.append(int(input(\"Digite um valor: \")))\n",
        "    resp = input(\"Quer continuar? [S/N] \")\n",
        "    if resp in \"Nn\":\n",
        "        break\n",
        "\n",
        "print(f\"Você digitou {len(valores)} elementos\")\n",
        "\n",
        "valores.sort(reverse=True)\n",
        "print(f\"Os valores em ordem decrescente são {valores}\")\n",
        "\n",
        "if 5 in valores:\n",
        "  print(\"O valor 5 faz parte da lista\")\n",
        "else:\n",
        "  print(\"O valor 5 não faz parte da lista\")"
      ],
      "metadata": {
        "id": "bpFVPC-grHhM",
        "colab": {
          "base_uri": "https://localhost:8080/"
        },
        "outputId": "1f5de135-bf22-4a74-93a0-90f16604faa7"
      },
      "execution_count": null,
      "outputs": [
        {
          "output_type": "stream",
          "name": "stdout",
          "text": [
            "Digite um valor: 78\n",
            "Quer continuar? [S/N] n\n",
            "Você digitou 1 elementos\n",
            "Os valores em ordem decrescente são [78]\n",
            "O valor 5 não faz parte da lista\n"
          ]
        }
      ]
    },
    {
      "cell_type": "markdown",
      "source": [
        "82) Crie um programa que vai ler vários números e colocar em uma lista. Depois disso, crie duas listas extras que vão conter apenas os valores pares e os valores ímpares digitados, respectivamente. Ao final, mostre o conteúdo das três listas geradas."
      ],
      "metadata": {
        "id": "5v_ILEbPW6RJ"
      }
    },
    {
      "cell_type": "code",
      "source": [
        "num = list()\n",
        "pares = list()\n",
        "impares = list()\n",
        "\n",
        "while True:\n",
        "  num.append(int(input(\"Digite um número: \")))\n",
        "  resp = input(\"Quer continuar? [S/N] \")\n",
        "  if resp in 'Nn':\n",
        "    break\n",
        "\n",
        "for i, v in enumerate(num):\n",
        "  if v % 2 == 0:\n",
        "    pares.append(v)\n",
        "  elif v % 2 == 1:\n",
        "    impares.append(v)\n",
        "\n",
        "print(f\"A lista completa é {num}\")\n",
        "print(f\"A lista de pares é {pares}\")\n",
        "print(f\"A lista de ímpares é {impares}\")"
      ],
      "metadata": {
        "colab": {
          "base_uri": "https://localhost:8080/"
        },
        "id": "PtjMOXoPXLa6",
        "outputId": "c05fba47-dc4f-44de-f7d3-2fc10cea9b00"
      },
      "execution_count": null,
      "outputs": [
        {
          "output_type": "stream",
          "name": "stdout",
          "text": [
            "Digite um número: 1\n",
            "Quer continuar? [S/N] s\n",
            "Digite um número: 3\n",
            "Quer continuar? [S/N] s\n",
            "Digite um número: 2\n",
            "Quer continuar? [S/N] s\n",
            "Digite um número: 4\n",
            "Quer continuar? [S/N] n\n",
            "A lista completa é [1, 3, 2, 4]\n",
            "A lista de pares é [2, 4]\n",
            "A lista de ímpares é [1, 3]\n"
          ]
        }
      ]
    },
    {
      "cell_type": "markdown",
      "source": [
        "83) Crie um programa onde o usuário digite uma expressão qualquer que use parênteses. Seu aplicativo deverá analisar se a expressão passada está com os parênteses abertos e fechados na ordem correta."
      ],
      "metadata": {
        "id": "zGlO21HxZt-y"
      }
    },
    {
      "cell_type": "code",
      "source": [
        "expr = input(\"Digite a expressão: \")\n",
        "pilha = []\n",
        "\n",
        "for simb in expr:\n",
        "  if simb == \"(\":\n",
        "    pilha.append(\"(\")\n",
        "  elif simb == \")\":\n",
        "    if len(pilha) > 0:\n",
        "      pilha.pop()\n",
        "    else:\n",
        "      pilha.append(\")\")\n",
        "      break\n",
        "\n",
        "if len(pilha) == 0:\n",
        "  print(\"Sua expressão está válida\")\n",
        "else:\n",
        "  print(\"Sua expressão está inválida\")"
      ],
      "metadata": {
        "colab": {
          "base_uri": "https://localhost:8080/"
        },
        "id": "OTPKBm1DZ8Zr",
        "outputId": "24e8443a-7a37-4ba2-956a-1be88469d95d"
      },
      "execution_count": null,
      "outputs": [
        {
          "output_type": "stream",
          "name": "stdout",
          "text": [
            "Digite a expressão: (x(y(z))\n",
            "Sua expressão está inválida\n"
          ]
        }
      ]
    }
  ]
}